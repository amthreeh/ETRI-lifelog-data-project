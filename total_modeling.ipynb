{
 "cells": [
  {
   "cell_type": "code",
   "execution_count": 115,
   "id": "50c35dc5-97f2-442e-8a43-ee9619360166",
   "metadata": {},
   "outputs": [
    {
     "data": {
      "text/plain": [
       "'/home/sh/lab/etritf'"
      ]
     },
     "execution_count": 115,
     "metadata": {},
     "output_type": "execute_result"
    }
   ],
   "source": [
    "pwd"
   ]
  },
  {
   "cell_type": "code",
   "execution_count": 116,
   "id": "1cea266f-ea0a-4c50-8449-f40d72b0f75d",
   "metadata": {},
   "outputs": [
    {
     "name": "stdout",
     "output_type": "stream",
     "text": [
      "/home/sh/lab/etritf\n"
     ]
    }
   ],
   "source": [
    "cd /home/sh/lab/etritf"
   ]
  },
  {
   "cell_type": "code",
   "execution_count": 117,
   "id": "838ed5a5-20de-476c-9a21-1275bb1cf4bb",
   "metadata": {},
   "outputs": [],
   "source": [
    "import pandas as pd\n",
    "import numpy as np\n",
    "import matplotlib.pyplot as plt\n",
    "import seaborn as sns\n",
    "from datetime import datetime\n",
    "%matplotlib inline"
   ]
  },
  {
   "cell_type": "code",
   "execution_count": 118,
   "id": "b4de961a-9f7a-4017-992f-8e78c66576fd",
   "metadata": {},
   "outputs": [],
   "source": [
    "from sklearn.ensemble import RandomForestClassifier\n",
    "from sklearn.tree import DecisionTreeClassifier\n",
    "from sklearn.ensemble import GradientBoostingClassifier\n",
    "from sklearn.svm import SVC\n",
    "from xgboost import XGBClassifier\n",
    "from sklearn.metrics import accuracy_score, precision_score, recall_score, f1_score\n",
    "from sklearn.metrics import roc_curve, auc\n",
    "from sklearn import preprocessing\n",
    "from sklearn.model_selection import train_test_split"
   ]
  },
  {
   "cell_type": "markdown",
   "id": "0452281f-f00a-4ebf-a743-511a90ecee10",
   "metadata": {
    "tags": []
   },
   "source": [
    "# 2020년\n",
    "- 기준: deepsleepduration 0.2673794848818764\n",
    "- 데이터: last.csv\n",
    "- 예측변수: 'lightsleepduration', 'remsleepduration', 'hr_average',\n",
    "       'hr_min', 'snoringepisodecount','rr_average', 'breathing_disturbances_intensity'"
   ]
  },
  {
   "cell_type": "code",
   "execution_count": 119,
   "id": "b2fa7dbb-a4fe-472a-b07a-2ffd3adcf535",
   "metadata": {},
   "outputs": [
    {
     "data": {
      "text/html": [
       "<div>\n",
       "<style scoped>\n",
       "    .dataframe tbody tr th:only-of-type {\n",
       "        vertical-align: middle;\n",
       "    }\n",
       "\n",
       "    .dataframe tbody tr th {\n",
       "        vertical-align: top;\n",
       "    }\n",
       "\n",
       "    .dataframe thead th {\n",
       "        text-align: right;\n",
       "    }\n",
       "</style>\n",
       "<table border=\"1\" class=\"dataframe\">\n",
       "  <thead>\n",
       "    <tr style=\"text-align: right;\">\n",
       "      <th></th>\n",
       "      <th>Unnamed: 0</th>\n",
       "      <th>userId</th>\n",
       "      <th>date</th>\n",
       "      <th>endInput</th>\n",
       "      <th>sleep</th>\n",
       "      <th>sleepProblem</th>\n",
       "      <th>dream</th>\n",
       "      <th>amCondition</th>\n",
       "      <th>amEmotion</th>\n",
       "      <th>pmEmotion</th>\n",
       "      <th>...</th>\n",
       "      <th>hr_average</th>\n",
       "      <th>hr_min</th>\n",
       "      <th>hr_max</th>\n",
       "      <th>rr_average</th>\n",
       "      <th>rr_min</th>\n",
       "      <th>rr_max</th>\n",
       "      <th>breathing_disturbances_intensity</th>\n",
       "      <th>snoring</th>\n",
       "      <th>snoringepisodecount</th>\n",
       "      <th>sleep_score</th>\n",
       "    </tr>\n",
       "  </thead>\n",
       "  <tbody>\n",
       "    <tr>\n",
       "      <th>0</th>\n",
       "      <td>0</td>\n",
       "      <td>user01</td>\n",
       "      <td>2020-08-30</td>\n",
       "      <td>2020-08-31 8:43</td>\n",
       "      <td>3.0</td>\n",
       "      <td>6.0</td>\n",
       "      <td>2.0</td>\n",
       "      <td>3.0</td>\n",
       "      <td>3.0</td>\n",
       "      <td>4.0</td>\n",
       "      <td>...</td>\n",
       "      <td>69</td>\n",
       "      <td>57</td>\n",
       "      <td>83</td>\n",
       "      <td>16</td>\n",
       "      <td>12</td>\n",
       "      <td>25</td>\n",
       "      <td>18</td>\n",
       "      <td>8880</td>\n",
       "      <td>16</td>\n",
       "      <td>83</td>\n",
       "    </tr>\n",
       "    <tr>\n",
       "      <th>1</th>\n",
       "      <td>1</td>\n",
       "      <td>user01</td>\n",
       "      <td>2020-08-31</td>\n",
       "      <td>2020-09-01 10:18</td>\n",
       "      <td>2.0</td>\n",
       "      <td>3.0</td>\n",
       "      <td>2.0</td>\n",
       "      <td>2.0</td>\n",
       "      <td>3.0</td>\n",
       "      <td>4.0</td>\n",
       "      <td>...</td>\n",
       "      <td>73</td>\n",
       "      <td>63</td>\n",
       "      <td>82</td>\n",
       "      <td>16</td>\n",
       "      <td>12</td>\n",
       "      <td>22</td>\n",
       "      <td>20</td>\n",
       "      <td>8280</td>\n",
       "      <td>16</td>\n",
       "      <td>82</td>\n",
       "    </tr>\n",
       "    <tr>\n",
       "      <th>2</th>\n",
       "      <td>2</td>\n",
       "      <td>user01</td>\n",
       "      <td>2020-09-02</td>\n",
       "      <td>2020-09-03 11:04</td>\n",
       "      <td>3.0</td>\n",
       "      <td>3.0</td>\n",
       "      <td>2.0</td>\n",
       "      <td>2.0</td>\n",
       "      <td>3.0</td>\n",
       "      <td>4.0</td>\n",
       "      <td>...</td>\n",
       "      <td>72</td>\n",
       "      <td>64</td>\n",
       "      <td>80</td>\n",
       "      <td>16</td>\n",
       "      <td>11</td>\n",
       "      <td>24</td>\n",
       "      <td>20</td>\n",
       "      <td>11400</td>\n",
       "      <td>11</td>\n",
       "      <td>82</td>\n",
       "    </tr>\n",
       "    <tr>\n",
       "      <th>3</th>\n",
       "      <td>3</td>\n",
       "      <td>user01</td>\n",
       "      <td>2020-09-03</td>\n",
       "      <td>2020-09-04 12:33</td>\n",
       "      <td>4.0</td>\n",
       "      <td>3.0</td>\n",
       "      <td>2.0</td>\n",
       "      <td>3.0</td>\n",
       "      <td>3.0</td>\n",
       "      <td>2.0</td>\n",
       "      <td>...</td>\n",
       "      <td>72</td>\n",
       "      <td>60</td>\n",
       "      <td>85</td>\n",
       "      <td>16</td>\n",
       "      <td>12</td>\n",
       "      <td>21</td>\n",
       "      <td>14</td>\n",
       "      <td>5280</td>\n",
       "      <td>5</td>\n",
       "      <td>60</td>\n",
       "    </tr>\n",
       "    <tr>\n",
       "      <th>4</th>\n",
       "      <td>4</td>\n",
       "      <td>user01</td>\n",
       "      <td>2020-09-04</td>\n",
       "      <td>2020-09-05 10:25</td>\n",
       "      <td>3.0</td>\n",
       "      <td>3.0</td>\n",
       "      <td>4.0</td>\n",
       "      <td>2.0</td>\n",
       "      <td>3.0</td>\n",
       "      <td>4.0</td>\n",
       "      <td>...</td>\n",
       "      <td>71</td>\n",
       "      <td>61</td>\n",
       "      <td>82</td>\n",
       "      <td>16</td>\n",
       "      <td>11</td>\n",
       "      <td>22</td>\n",
       "      <td>15</td>\n",
       "      <td>5460</td>\n",
       "      <td>11</td>\n",
       "      <td>79</td>\n",
       "    </tr>\n",
       "  </tbody>\n",
       "</table>\n",
       "<p>5 rows × 36 columns</p>\n",
       "</div>"
      ],
      "text/plain": [
       "   Unnamed: 0  userId        date          endInput  sleep  sleepProblem  \\\n",
       "0           0  user01  2020-08-30   2020-08-31 8:43    3.0           6.0   \n",
       "1           1  user01  2020-08-31  2020-09-01 10:18    2.0           3.0   \n",
       "2           2  user01  2020-09-02  2020-09-03 11:04    3.0           3.0   \n",
       "3           3  user01  2020-09-03  2020-09-04 12:33    4.0           3.0   \n",
       "4           4  user01  2020-09-04  2020-09-05 10:25    3.0           3.0   \n",
       "\n",
       "   dream  amCondition  amEmotion  pmEmotion  ...  hr_average  hr_min hr_max  \\\n",
       "0    2.0          3.0        3.0        4.0  ...          69      57     83   \n",
       "1    2.0          2.0        3.0        4.0  ...          73      63     82   \n",
       "2    2.0          2.0        3.0        4.0  ...          72      64     80   \n",
       "3    2.0          3.0        3.0        2.0  ...          72      60     85   \n",
       "4    4.0          2.0        3.0        4.0  ...          71      61     82   \n",
       "\n",
       "   rr_average rr_min  rr_max breathing_disturbances_intensity snoring  \\\n",
       "0          16     12      25                               18    8880   \n",
       "1          16     12      22                               20    8280   \n",
       "2          16     11      24                               20   11400   \n",
       "3          16     12      21                               14    5280   \n",
       "4          16     11      22                               15    5460   \n",
       "\n",
       "  snoringepisodecount  sleep_score  \n",
       "0                  16           83  \n",
       "1                  16           82  \n",
       "2                  11           82  \n",
       "3                   5           60  \n",
       "4                  11           79  \n",
       "\n",
       "[5 rows x 36 columns]"
      ]
     },
     "execution_count": 119,
     "metadata": {},
     "output_type": "execute_result"
    }
   ],
   "source": [
    "df_2020 = pd.read_csv('./ja_data/last.csv')\n",
    "df_2020.head()"
   ]
  },
  {
   "cell_type": "code",
   "execution_count": 120,
   "id": "a3b0cdef-c1aa-482e-ae2d-35ef8f66206f",
   "metadata": {},
   "outputs": [
    {
     "data": {
      "text/plain": [
       "Index(['Unnamed: 0', 'userId', 'date', 'endInput', 'sleep', 'sleepProblem',\n",
       "       'dream', 'amCondition', 'amEmotion', 'pmEmotion', 'pmStress',\n",
       "       'pmFatigue', 'caffeine', 'cAmount(ml)', 'alcohol', 'aAmount(ml)',\n",
       "       'startDt', 'endDt', 'lastUpdate', 'wakeupduration',\n",
       "       'lightsleepduration', 'deepsleepduration', 'wakeupcount',\n",
       "       'durationtosleep', 'remsleepduration', 'durationtowakeup', 'hr_average',\n",
       "       'hr_min', 'hr_max', 'rr_average', 'rr_min', 'rr_max',\n",
       "       'breathing_disturbances_intensity', 'snoring', 'snoringepisodecount',\n",
       "       'sleep_score'],\n",
       "      dtype='object')"
      ]
     },
     "execution_count": 120,
     "metadata": {},
     "output_type": "execute_result"
    }
   ],
   "source": [
    "df_2020.columns"
   ]
  },
  {
   "cell_type": "code",
   "execution_count": 121,
   "id": "af11d639-b11f-4244-ab6b-59a9e0ade9a4",
   "metadata": {},
   "outputs": [],
   "source": [
    "df_2020['total_sleep_time']=df_2020['lightsleepduration']+df_2020['deepsleepduration']+df_2020['remsleepduration']\n",
    "for x in ['lightsleepduration', 'remsleepduration', 'hr_average','deepsleepduration',\n",
    "       'hr_min', 'snoringepisodecount','rr_average', 'breathing_disturbances_intensity']:\n",
    "    df_2020[x]=df_2020[x]/df_2020['total_sleep_time']\n",
    "\n",
    "X = df_2020[['lightsleepduration', 'remsleepduration', 'hr_average',\n",
    "       'hr_min', 'snoringepisodecount','rr_average', 'breathing_disturbances_intensity']]\n",
    "y = df_2020['deepsleepduration']"
   ]
  },
  {
   "cell_type": "code",
   "execution_count": 122,
   "id": "69f80bfb-6e8e-478c-9487-8210d55d8701",
   "metadata": {},
   "outputs": [
    {
     "name": "stdout",
     "output_type": "stream",
     "text": [
      "0.2673794848818764\n"
     ]
    }
   ],
   "source": [
    "print(np.median(y))"
   ]
  },
  {
   "cell_type": "code",
   "execution_count": 123,
   "id": "e864dacc-f153-4e22-bdb7-b7ce24150117",
   "metadata": {},
   "outputs": [
    {
     "name": "stdout",
     "output_type": "stream",
     "text": [
      "Random Forest Accuracy: 0.9401197604790419\n",
      "Random Forest Precision: 0.948051948051948\n",
      "Random Forest Recall: 0.9240506329113924\n",
      "Random Forest F1-score: 0.9358974358974359\n",
      "---------------------------------------\n",
      "XGB Accuracy: 0.9640718562874252\n",
      "XGB Precision: 0.9620253164556962\n",
      "XGB Recall: 0.9620253164556962\n",
      "XGB F1-score: 0.9620253164556962\n"
     ]
    }
   ],
   "source": [
    "# 이진 분류를 위해 y값 변환\n",
    "y_binary = y.apply(lambda x: 1 if x >= 0.2673794848818764 else 0)\n",
    "\n",
    "# 데이터셋 분리\n",
    "X_train, X_test, y_train, y_test = train_test_split(X, y_binary, test_size=0.33, random_state=42)\n",
    "\n",
    "\n",
    "# Random Forest 모델\n",
    "rf = RandomForestClassifier()\n",
    "rf.fit(X_train, y_train)\n",
    "rf_y_pred = rf.predict(X_test)\n",
    "rf_accuracy = accuracy_score(y_test, rf_y_pred)\n",
    "rf_precision = precision_score(y_test, rf_y_pred)\n",
    "rf_recall = recall_score(y_test, rf_y_pred)\n",
    "rf_f1 = f1_score(y_test, rf_y_pred)\n",
    "print(\"Random Forest Accuracy:\", rf_accuracy)\n",
    "print(\"Random Forest Precision:\", rf_precision)\n",
    "print(\"Random Forest Recall:\", rf_recall)\n",
    "print(\"Random Forest F1-score:\", rf_f1)\n",
    "print(\"---------------------------------------\")\n",
    "\n",
    "#xgb 모델\n",
    "xgb = XGBClassifier()\n",
    "xgb.fit(X_train, y_train)\n",
    "xgb_y_pred = xgb.predict(X_test)\n",
    "xgb_accuracy = accuracy_score(y_test, xgb_y_pred)\n",
    "xgb_precision = precision_score(y_test, xgb_y_pred)\n",
    "xgb_recall = recall_score(y_test, xgb_y_pred)\n",
    "xgb_f1 = f1_score(y_test, xgb_y_pred)\n",
    "print(\"XGB Accuracy:\", xgb_accuracy)\n",
    "print(\"XGB Precision:\", xgb_precision)\n",
    "print(\"XGB Recall:\", xgb_recall)\n",
    "print(\"XGB F1-score:\", xgb_f1)\n"
   ]
  },
  {
   "cell_type": "markdown",
   "id": "6e782b32-d449-4e72-8d00-3177aa76797e",
   "metadata": {
    "tags": []
   },
   "source": [
    "# 2019년\n",
    "- 기준: movement_index 4.178000000000001\n",
    "- 'time_in_bed', 'wakeupcount', 'waso', 'fragmentation_index','aal'"
   ]
  },
  {
   "cell_type": "code",
   "execution_count": 124,
   "id": "1982f3a5-d012-49e9-9c41-a1c558f647f8",
   "metadata": {},
   "outputs": [],
   "source": [
    "data=pd.read_csv('./ja_data/total1819.csv').drop(['Unnamed: 0.1','Unnamed: 0'],axis=1)\n",
    "data=data.fillna(-1)\n",
    "data19=data[data['device']=='Actigraph']"
   ]
  },
  {
   "cell_type": "code",
   "execution_count": 125,
   "id": "9bd9df06-0093-47da-acf9-d0cf4103397b",
   "metadata": {},
   "outputs": [
    {
     "data": {
      "text/plain": [
       "Index(['userId', 'night_inputDt', 'pmEmotion', 'pmStress', 'ifUnusual',\n",
       "       'breakfast', 'lunch', 'dinner', 'lateSnack', 'amCaffeine',\n",
       "       'amCaffAmount', 'pmCaffeine', 'pmCaffAmount', 'alcohol', 'aAmount',\n",
       "       'date', 'sleep', 'inputDt', 'sleepProblem', 'dream', 'amCondition',\n",
       "       'amEmotion', 'total_CaffAmount', 'date_m', 'startDt', 'endDt', 'device',\n",
       "       'sleep_score', 'total_sleep_time', 'time_in_bed', 'waso', 'wakeupcount',\n",
       "       'aal', 'movement_index', 'fragmentation_index', 'sleep_frag_index'],\n",
       "      dtype='object')"
      ]
     },
     "execution_count": 125,
     "metadata": {},
     "output_type": "execute_result"
    }
   ],
   "source": [
    "data19.columns"
   ]
  },
  {
   "cell_type": "code",
   "execution_count": 126,
   "id": "31c9447c-9cb6-4674-8f45-f600ec622365",
   "metadata": {},
   "outputs": [
    {
     "name": "stderr",
     "output_type": "stream",
     "text": [
      "/tmp/ipykernel_1869622/3884045365.py:2: SettingWithCopyWarning: \n",
      "A value is trying to be set on a copy of a slice from a DataFrame.\n",
      "Try using .loc[row_indexer,col_indexer] = value instead\n",
      "\n",
      "See the caveats in the documentation: https://pandas.pydata.org/pandas-docs/stable/user_guide/indexing.html#returning-a-view-versus-a-copy\n",
      "  data19[x]=data19[x]/data19['total_sleep_time']\n"
     ]
    }
   ],
   "source": [
    "for x in ['time_in_bed', 'wakeupcount', 'waso', 'aal']:\n",
    "    data19[x]=data19[x]/data19['total_sleep_time']\n",
    "\n",
    "X = data19[['time_in_bed', 'wakeupcount', 'waso', 'fragmentation_index','aal']]\n",
    "y = data19['movement_index']"
   ]
  },
  {
   "cell_type": "code",
   "execution_count": 106,
   "id": "64101c88-8305-4002-96e8-57b19d87d3df",
   "metadata": {},
   "outputs": [
    {
     "name": "stdout",
     "output_type": "stream",
     "text": [
      "4.178000000000001\n"
     ]
    }
   ],
   "source": [
    "print(np.median(y))"
   ]
  },
  {
   "cell_type": "code",
   "execution_count": 127,
   "id": "ca509bbd-a140-4e0f-b591-b0e429a690f1",
   "metadata": {
    "tags": []
   },
   "outputs": [
    {
     "name": "stdout",
     "output_type": "stream",
     "text": [
      "Random Forest Accuracy: 0.968421052631579\n",
      "Random Forest Precision: 1.0\n",
      "Random Forest Recall: 0.9433962264150944\n",
      "Random Forest F1-score: 0.970873786407767\n",
      "---------------------------------------\n",
      "XGB Accuracy: 0.9578947368421052\n",
      "XGB Precision: 0.9803921568627451\n",
      "XGB Recall: 0.9433962264150944\n",
      "XGB F1-score: 0.9615384615384616\n"
     ]
    }
   ],
   "source": [
    "# 이진 분류를 위해 y값 변환\n",
    "y_binary = y.apply(lambda x: 1 if x >=4.178000000000001 else 0)\n",
    "\n",
    "# 데이터셋 분리\n",
    "X_train, X_test, y_train, y_test = train_test_split(X, y_binary, test_size=0.33, random_state=42)\n",
    "\n",
    "\n",
    "# Random Forest 모델\n",
    "rf = RandomForestClassifier()\n",
    "rf.fit(X_train, y_train)\n",
    "rf_y_pred = rf.predict(X_test)\n",
    "rf_accuracy = accuracy_score(y_test, rf_y_pred)\n",
    "rf_precision = precision_score(y_test, rf_y_pred)\n",
    "rf_recall = recall_score(y_test, rf_y_pred)\n",
    "rf_f1 = f1_score(y_test, rf_y_pred)\n",
    "print(\"Random Forest Accuracy:\", rf_accuracy)\n",
    "print(\"Random Forest Precision:\", rf_precision)\n",
    "print(\"Random Forest Recall:\", rf_recall)\n",
    "print(\"Random Forest F1-score:\", rf_f1)\n",
    "print(\"---------------------------------------\")\n",
    "#xgb 모델\n",
    "xgb = XGBClassifier()\n",
    "xgb.fit(X_train, y_train)\n",
    "xgb_y_pred = xgb.predict(X_test)\n",
    "xgb_accuracy = accuracy_score(y_test, xgb_y_pred)\n",
    "xgb_precision = precision_score(y_test, xgb_y_pred)\n",
    "xgb_recall = recall_score(y_test, xgb_y_pred)\n",
    "xgb_f1 = f1_score(y_test, xgb_y_pred)\n",
    "print(\"XGB Accuracy:\", xgb_accuracy)\n",
    "print(\"XGB Precision:\", xgb_precision)\n",
    "print(\"XGB Recall:\", xgb_recall)\n",
    "print(\"XGB F1-score:\", xgb_f1)\n"
   ]
  },
  {
   "cell_type": "markdown",
   "id": "200835ff-8307-4a3b-a3a6-8edbdaccb40d",
   "metadata": {
    "tags": []
   },
   "source": [
    "# 2018년\n",
    "- 기준: sleepProblem 1\n",
    "- 'time_in_bed','lunch','pmStress','dinner', 'sleep'"
   ]
  },
  {
   "cell_type": "code",
   "execution_count": 128,
   "id": "dc6f514c-8c27-421e-8801-192122eda0df",
   "metadata": {},
   "outputs": [],
   "source": [
    "data=pd.read_csv('./ja_data/total1819.csv').drop(['Unnamed: 0.1','Unnamed: 0'],axis=1)\n",
    "data=data.fillna(-1)\n",
    "data18=data[data['device']=='Fitbit']\n",
    "data18=data18.drop(['waso', 'wakeupcount','aal','movement_index','fragmentation_index', 'sleep_frag_index','userId', 'night_inputDt', 'amCaffeine','pmCaffeine','alcohol','device','inputDt','date','date_m','startDt', 'endDt'],axis=1)"
   ]
  },
  {
   "cell_type": "code",
   "execution_count": 129,
   "id": "5eb6759d-1860-46f9-9894-00d620e93b66",
   "metadata": {},
   "outputs": [
    {
     "data": {
      "text/html": [
       "<div>\n",
       "<style scoped>\n",
       "    .dataframe tbody tr th:only-of-type {\n",
       "        vertical-align: middle;\n",
       "    }\n",
       "\n",
       "    .dataframe tbody tr th {\n",
       "        vertical-align: top;\n",
       "    }\n",
       "\n",
       "    .dataframe thead th {\n",
       "        text-align: right;\n",
       "    }\n",
       "</style>\n",
       "<table border=\"1\" class=\"dataframe\">\n",
       "  <thead>\n",
       "    <tr style=\"text-align: right;\">\n",
       "      <th></th>\n",
       "      <th>pmEmotion</th>\n",
       "      <th>pmStress</th>\n",
       "      <th>ifUnusual</th>\n",
       "      <th>breakfast</th>\n",
       "      <th>lunch</th>\n",
       "      <th>dinner</th>\n",
       "      <th>lateSnack</th>\n",
       "      <th>amCaffAmount</th>\n",
       "      <th>pmCaffAmount</th>\n",
       "      <th>aAmount</th>\n",
       "      <th>sleep</th>\n",
       "      <th>sleepProblem</th>\n",
       "      <th>dream</th>\n",
       "      <th>amCondition</th>\n",
       "      <th>amEmotion</th>\n",
       "      <th>total_CaffAmount</th>\n",
       "      <th>sleep_score</th>\n",
       "      <th>total_sleep_time</th>\n",
       "      <th>time_in_bed</th>\n",
       "    </tr>\n",
       "  </thead>\n",
       "  <tbody>\n",
       "    <tr>\n",
       "      <th>0</th>\n",
       "      <td>3.0</td>\n",
       "      <td>1.0</td>\n",
       "      <td>2.0</td>\n",
       "      <td>1.0</td>\n",
       "      <td>3.0</td>\n",
       "      <td>3.0</td>\n",
       "      <td>4.0</td>\n",
       "      <td>-1.0</td>\n",
       "      <td>-1.0</td>\n",
       "      <td>-1.0</td>\n",
       "      <td>3.0</td>\n",
       "      <td>3.0</td>\n",
       "      <td>2.0</td>\n",
       "      <td>4.0</td>\n",
       "      <td>5.0</td>\n",
       "      <td>-1.0</td>\n",
       "      <td>90.800478</td>\n",
       "      <td>22800</td>\n",
       "      <td>25110</td>\n",
       "    </tr>\n",
       "    <tr>\n",
       "      <th>1</th>\n",
       "      <td>5.0</td>\n",
       "      <td>4.0</td>\n",
       "      <td>2.0</td>\n",
       "      <td>1.0</td>\n",
       "      <td>3.0</td>\n",
       "      <td>3.0</td>\n",
       "      <td>-1.0</td>\n",
       "      <td>2.0</td>\n",
       "      <td>-1.0</td>\n",
       "      <td>-1.0</td>\n",
       "      <td>3.0</td>\n",
       "      <td>0.0</td>\n",
       "      <td>4.0</td>\n",
       "      <td>3.0</td>\n",
       "      <td>4.0</td>\n",
       "      <td>-1.0</td>\n",
       "      <td>91.984231</td>\n",
       "      <td>21000</td>\n",
       "      <td>22830</td>\n",
       "    </tr>\n",
       "    <tr>\n",
       "      <th>2</th>\n",
       "      <td>3.0</td>\n",
       "      <td>2.0</td>\n",
       "      <td>2.0</td>\n",
       "      <td>2.0</td>\n",
       "      <td>3.0</td>\n",
       "      <td>3.0</td>\n",
       "      <td>4.0</td>\n",
       "      <td>-1.0</td>\n",
       "      <td>1.0</td>\n",
       "      <td>-1.0</td>\n",
       "      <td>4.0</td>\n",
       "      <td>6.0</td>\n",
       "      <td>4.0</td>\n",
       "      <td>2.0</td>\n",
       "      <td>2.0</td>\n",
       "      <td>-1.0</td>\n",
       "      <td>88.482385</td>\n",
       "      <td>19590</td>\n",
       "      <td>22140</td>\n",
       "    </tr>\n",
       "    <tr>\n",
       "      <th>3</th>\n",
       "      <td>4.0</td>\n",
       "      <td>2.0</td>\n",
       "      <td>2.0</td>\n",
       "      <td>2.0</td>\n",
       "      <td>3.0</td>\n",
       "      <td>3.0</td>\n",
       "      <td>4.0</td>\n",
       "      <td>1.0</td>\n",
       "      <td>1.0</td>\n",
       "      <td>-1.0</td>\n",
       "      <td>3.0</td>\n",
       "      <td>0.0</td>\n",
       "      <td>4.0</td>\n",
       "      <td>1.0</td>\n",
       "      <td>5.0</td>\n",
       "      <td>2.0</td>\n",
       "      <td>88.781665</td>\n",
       "      <td>22080</td>\n",
       "      <td>24870</td>\n",
       "    </tr>\n",
       "    <tr>\n",
       "      <th>4</th>\n",
       "      <td>3.0</td>\n",
       "      <td>2.0</td>\n",
       "      <td>2.0</td>\n",
       "      <td>1.0</td>\n",
       "      <td>3.0</td>\n",
       "      <td>3.0</td>\n",
       "      <td>2.0</td>\n",
       "      <td>-1.0</td>\n",
       "      <td>-1.0</td>\n",
       "      <td>-1.0</td>\n",
       "      <td>4.0</td>\n",
       "      <td>0.0</td>\n",
       "      <td>4.0</td>\n",
       "      <td>1.0</td>\n",
       "      <td>2.0</td>\n",
       "      <td>-1.0</td>\n",
       "      <td>92.403101</td>\n",
       "      <td>17880</td>\n",
       "      <td>19350</td>\n",
       "    </tr>\n",
       "  </tbody>\n",
       "</table>\n",
       "</div>"
      ],
      "text/plain": [
       "   pmEmotion  pmStress  ifUnusual  breakfast  lunch  dinner  lateSnack  \\\n",
       "0        3.0       1.0        2.0        1.0    3.0     3.0        4.0   \n",
       "1        5.0       4.0        2.0        1.0    3.0     3.0       -1.0   \n",
       "2        3.0       2.0        2.0        2.0    3.0     3.0        4.0   \n",
       "3        4.0       2.0        2.0        2.0    3.0     3.0        4.0   \n",
       "4        3.0       2.0        2.0        1.0    3.0     3.0        2.0   \n",
       "\n",
       "   amCaffAmount  pmCaffAmount  aAmount  sleep  sleepProblem  dream  \\\n",
       "0          -1.0          -1.0     -1.0    3.0           3.0    2.0   \n",
       "1           2.0          -1.0     -1.0    3.0           0.0    4.0   \n",
       "2          -1.0           1.0     -1.0    4.0           6.0    4.0   \n",
       "3           1.0           1.0     -1.0    3.0           0.0    4.0   \n",
       "4          -1.0          -1.0     -1.0    4.0           0.0    4.0   \n",
       "\n",
       "   amCondition  amEmotion  total_CaffAmount  sleep_score  total_sleep_time  \\\n",
       "0          4.0        5.0              -1.0    90.800478             22800   \n",
       "1          3.0        4.0              -1.0    91.984231             21000   \n",
       "2          2.0        2.0              -1.0    88.482385             19590   \n",
       "3          1.0        5.0               2.0    88.781665             22080   \n",
       "4          1.0        2.0              -1.0    92.403101             17880   \n",
       "\n",
       "   time_in_bed  \n",
       "0        25110  \n",
       "1        22830  \n",
       "2        22140  \n",
       "3        24870  \n",
       "4        19350  "
      ]
     },
     "execution_count": 129,
     "metadata": {},
     "output_type": "execute_result"
    }
   ],
   "source": [
    "data18.head()"
   ]
  },
  {
   "cell_type": "code",
   "execution_count": 39,
   "id": "55a857af-a273-4616-bd1c-fd84ec761644",
   "metadata": {},
   "outputs": [
    {
     "data": {
      "text/plain": [
       "Index(['pmEmotion', 'pmStress', 'ifUnusual', 'breakfast', 'lunch', 'dinner',\n",
       "       'lateSnack', 'amCaffAmount', 'pmCaffAmount', 'aAmount', 'sleep',\n",
       "       'sleepProblem', 'dream', 'amCondition', 'amEmotion', 'total_CaffAmount',\n",
       "       'sleep_score', 'total_sleep_time', 'time_in_bed'],\n",
       "      dtype='object')"
      ]
     },
     "execution_count": 39,
     "metadata": {},
     "output_type": "execute_result"
    }
   ],
   "source": [
    "data18.columns"
   ]
  },
  {
   "cell_type": "code",
   "execution_count": 130,
   "id": "17e4b610-7369-4e6a-9669-7a9436c7fc03",
   "metadata": {},
   "outputs": [],
   "source": [
    "for x in ['time_in_bed','lunch','pmStress','dinner', 'sleep']:\n",
    "    data18[x]=data18[x]/data18['total_sleep_time']\n",
    "X = data18[['time_in_bed','lunch','pmStress','dinner', 'sleep']]\n",
    "y = data18['sleepProblem']"
   ]
  },
  {
   "cell_type": "code",
   "execution_count": 131,
   "id": "fa654707-7681-4ba8-8457-2906f39c471f",
   "metadata": {},
   "outputs": [
    {
     "name": "stdout",
     "output_type": "stream",
     "text": [
      "Random Forest Accuracy: 0.5972222222222222\n",
      "Random Forest Precision: 0.7222222222222222\n",
      "Random Forest Recall: 0.5777777777777777\n",
      "Random Forest F1-score: 0.6419753086419753\n",
      "---------------------------------------\n",
      "XGB Accuracy: 0.5416666666666666\n",
      "XGB Precision: 0.6578947368421053\n",
      "XGB Recall: 0.5555555555555556\n",
      "XGB F1-score: 0.6024096385542169\n"
     ]
    }
   ],
   "source": [
    "# 이진 분류를 위해 y값 변환\n",
    "y_binary = y.apply(lambda x: 1 if x >= 1 else 0)\n",
    "\n",
    "# 데이터셋 분리\n",
    "X_train, X_test, y_train, y_test = train_test_split(X, y_binary, test_size=0.33, random_state=42)\n",
    "\n",
    "\n",
    "# Random Forest 모델\n",
    "rf = RandomForestClassifier()\n",
    "rf.fit(X_train, y_train)\n",
    "rf_y_pred = rf.predict(X_test)\n",
    "rf_accuracy = accuracy_score(y_test, rf_y_pred)\n",
    "rf_precision = precision_score(y_test, rf_y_pred)\n",
    "rf_recall = recall_score(y_test, rf_y_pred)\n",
    "rf_f1 = f1_score(y_test, rf_y_pred)\n",
    "print(\"Random Forest Accuracy:\", rf_accuracy)\n",
    "print(\"Random Forest Precision:\", rf_precision)\n",
    "print(\"Random Forest Recall:\", rf_recall)\n",
    "print(\"Random Forest F1-score:\", rf_f1)\n",
    "print(\"---------------------------------------\")\n",
    "\n",
    "#xgb 모델\n",
    "xgb = XGBClassifier()\n",
    "xgb.fit(X_train, y_train)\n",
    "xgb_y_pred = xgb.predict(X_test)\n",
    "xgb_accuracy = accuracy_score(y_test, xgb_y_pred)\n",
    "xgb_precision = precision_score(y_test, xgb_y_pred)\n",
    "xgb_recall = recall_score(y_test, xgb_y_pred)\n",
    "xgb_f1 = f1_score(y_test, xgb_y_pred)\n",
    "print(\"XGB Accuracy:\", xgb_accuracy)\n",
    "print(\"XGB Precision:\", xgb_precision)\n",
    "print(\"XGB Recall:\", xgb_recall)\n",
    "print(\"XGB F1-score:\", xgb_f1)\n"
   ]
  },
  {
   "cell_type": "code",
   "execution_count": null,
   "id": "ade10b64-3c5d-40bd-9b68-d77cdf3e0555",
   "metadata": {},
   "outputs": [],
   "source": []
  }
 ],
 "metadata": {
  "kernelspec": {
   "display_name": "Python 3 (ipykernel)",
   "language": "python",
   "name": "python3"
  },
  "language_info": {
   "codemirror_mode": {
    "name": "ipython",
    "version": 3
   },
   "file_extension": ".py",
   "mimetype": "text/x-python",
   "name": "python",
   "nbconvert_exporter": "python",
   "pygments_lexer": "ipython3",
   "version": "3.9.13"
  }
 },
 "nbformat": 4,
 "nbformat_minor": 5
}
