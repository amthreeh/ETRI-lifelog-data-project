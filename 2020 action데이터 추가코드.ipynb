{
 "cells": [
  {
   "cell_type": "code",
   "execution_count": 2,
   "id": "98a40fda-bddd-45db-bc3a-7b062670d9cd",
   "metadata": {},
   "outputs": [],
   "source": [
    "from sklearn.datasets import load_iris\n",
    "from sklearn.tree import DecisionTreeClassifier\n",
    "from sklearn.ensemble import RandomForestClassifier\n",
    "from sklearn.linear_model import LogisticRegression\n",
    "from sklearn.model_selection import train_test_split\n",
    "from sklearn.model_selection import cross_val_score, cross_validate\n",
    "from sklearn.metrics import accuracy_score, precision_score, recall_score #Confusion matrix 수업 때 진행할 예정 \n",
    "from sklearn.model_selection import KFold\n",
    "from sklearn.metrics import classification_report\n",
    "from sklearn.preprocessing import LabelEncoder\n",
    "import numpy as np\n",
    "import pandas as pd\n",
    "from sklearn.ensemble import AdaBoostClassifier\n",
    "from sklearn.ensemble import GradientBoostingClassifier\n",
    "from xgboost import XGBClassifier\n",
    "from lightgbm import LGBMClassifier\n",
    "from sklearn.model_selection import StratifiedShuffleSplit\n",
    "from sklearn.metrics import accuracy_score, precision_score, recall_score, f1_score, roc_auc_score\n",
    "import time\n",
    "import matplotlib.pyplot as plt\n",
    "import os"
   ]
  },
  {
   "cell_type": "code",
   "execution_count": 5,
   "id": "5ccdb7d5-22bd-4efb-b374-21380d46403e",
   "metadata": {},
   "outputs": [
    {
     "data": {
      "text/plain": [
       "'/home/sh/lab/etritf/jw_data'"
      ]
     },
     "execution_count": 5,
     "metadata": {},
     "output_type": "execute_result"
    }
   ],
   "source": [
    "pwd"
   ]
  },
  {
   "cell_type": "code",
   "execution_count": 11,
   "id": "b8590f80-20d6-45c1-9a82-ae939fed9eb8",
   "metadata": {},
   "outputs": [
    {
     "name": "stdout",
     "output_type": "stream",
     "text": [
      "/home/sh/lab/etritf\n"
     ]
    }
   ],
   "source": [
    "cd /home/sh/lab/etritf/"
   ]
  },
  {
   "cell_type": "markdown",
   "id": "8b2b0cbf-1f58-410f-9722-d347997b0688",
   "metadata": {
    "tags": []
   },
   "source": [
    "# 2020년 수면 데이터, 설문 데이터, action 데이터를 합치는 코드\n",
    "- 2020"
   ]
  },
  {
   "cell_type": "code",
   "execution_count": 18,
   "id": "ea6cfb3b-2035-4ba6-b160-d43e9a309026",
   "metadata": {},
   "outputs": [
    {
     "name": "stdout",
     "output_type": "stream",
     "text": [
      "------- user01.csv ------------------------------------\n",
      "------- user02.csv ------------------------------------\n",
      "------- user03.csv ------------------------------------\n",
      "------- user04.csv ------------------------------------\n",
      "------- user05.csv ------------------------------------\n",
      "------- user06.csv ------------------------------------\n",
      "------- user07.csv ------------------------------------\n",
      "------- user08.csv ------------------------------------\n",
      "------- user09.csv ------------------------------------\n",
      "------- user10.csv ------------------------------------\n",
      "------- user11.csv ------------------------------------\n",
      "------- user12.csv ------------------------------------\n",
      "------- user21.csv ------------------------------------\n",
      "------- user22.csv ------------------------------------\n",
      "------- user23.csv ------------------------------------\n",
      "------- user24.csv ------------------------------------\n",
      "------- user25.csv ------------------------------------\n",
      "------- user26.csv ------------------------------------\n",
      "------- user27.csv ------------------------------------\n",
      "------- user28.csv ------------------------------------\n",
      "------- user29.csv ------------------------------------\n",
      "------- user30.csv ------------------------------------\n"
     ]
    }
   ],
   "source": [
    "action_list =[111, 112, 121, 122, 131, 132, 133, 134, 211, 212, 213, 22, 311, 312, 313, 314, 321, 322, 41, 42, 43, 44, 45, 46, 51, 52, 53, 54, 55, 56, 57, 81, 82, 83, 84, 85, 86,\n",
    "              87, 61, 62, 63, 64, 711, 712, 713, 721, 722, 723, 724, 725, 741, 742, 743, 744, 745, 746, 751, 752, 753, 754, 755, 756, 761, 762, 763, 764, 791, 792, 793, 91, 92]\n",
    "DIRNAME =sorted(os.listdir('jw_data/label_date/'))\n",
    "SLEEP_DIRNAME = sorted(os.listdir('/home/sh/lab/etritf/ja_data/last/'))\n",
    "\n",
    "action_option = []\n",
    "for i in range(len(DIRNAME)):\n",
    "    if DIRNAME[i] == '.ipynb_checkpoints':\n",
    "        continue\n",
    "    else:\n",
    "        base_dir1 = 'jw_data/label_date/'+DIRNAME[i]\n",
    "        base_dir2 = 'ja_data/last/'+SLEEP_DIRNAME[i]\n",
    "        label_data = pd.read_csv(base_dir1)\n",
    "        sleep_data = pd.read_csv(base_dir2)\n",
    "        datelist = sorted(label_data['date'].unique())\n",
    "        df =pd.get_dummies(label_data['actionOption'])\n",
    "        \n",
    "        action_df = pd.DataFrame(columns= action_list)\n",
    "        score = sleep_data[['date', 'endInput', 'sleep', 'sleepProblem',\n",
    "       'dream', 'amCondition', 'amEmotion', 'pmEmotion', 'pmStress',\n",
    "       'pmFatigue',  'cAmount(ml)',  'aAmount(ml)', 'lastUpdate', 'wakeupduration',\n",
    "       'lightsleepduration', 'deepsleepduration', 'wakeupcount',\n",
    "       'durationtosleep', 'remsleepduration', 'durationtowakeup', 'hr_average',\n",
    "       'hr_min', 'hr_max', 'rr_average', 'rr_min', 'rr_max',\n",
    "       'breathing_disturbances_intensity', 'snoring', 'snoringepisodecount',\n",
    "       'sleep_score']]\n",
    "       \n",
    "        print(\"-------\", f\"{DIRNAME[i]}\", \"------------------------------------\")\n",
    "        for j in range(len(datelist)):\n",
    "            action = pd.DataFrame(data = label_data[label_data['date'] == datelist[j]][-180:], columns =['date','actionOption'])\n",
    "            \n",
    "            action_num_list = action['actionOption'].unique() # 해당 날짜에 수행한 action 리스트\n",
    "            #print(action_num_list)\n",
    "            date = action['date'].unique()\n",
    "            date_action_dict = dict(zip(date, [action_num_list])) # 날짜와 해당하는 action\n",
    "            for date, action in date_action_dict.items():\n",
    "                action_df.loc[date, action] = 1\n",
    "               \n",
    "        action_df = action_df.fillna(0)\n",
    "        \n",
    "    \n",
    "        score.set_index('date', inplace=True)\n",
    "       \n",
    "        action_df = action_df.reset_index(drop=True)\n",
    "        score = score.reset_index(drop=True)\n",
    "        #print(action_df.head(2))\n",
    "        \n",
    "        merged_df = pd.concat([action_df, score], axis=1, join='inner')\n",
    "        merged_df.to_csv('jw_data/last/'+f\"{DIRNAME[i]}\")"
   ]
  },
  {
   "cell_type": "code",
   "execution_count": 19,
   "id": "754bee60-a76d-4dd3-aa4c-55dfd82d12dc",
   "metadata": {
    "tags": []
   },
   "outputs": [],
   "source": [
    "import os\n",
    "import pandas as pd\n",
    "\n",
    "DIRNAME = sorted(os.listdir('jw_data/last/'))\n",
    "dfs = []\n",
    "for i in range(len(DIRNAME)):\n",
    "    if DIRNAME[i] == '.ipynb_checkpoints':\n",
    "        continue\n",
    "    else:\n",
    "        base_dir1 = 'jw_data/last/'+DIRNAME[i]\n",
    "        action_label_data = pd.read_csv(base_dir1)\n",
    "        dfs.append(action_label_data)\n",
    "   \n",
    "\n",
    "merged_dfs = pd.concat(dfs, ignore_index=False) \n",
    "merged_dfs.to_csv('jw_data/last.csv')"
   ]
  },
  {
   "cell_type": "code",
   "execution_count": 45,
   "id": "f53eed8e-d50e-4e83-b5cf-2b6a21b08f0a",
   "metadata": {},
   "outputs": [],
   "source": [
    "actionOption = pd.read_csv('jw_data/last.csv')"
   ]
  },
  {
   "cell_type": "code",
   "execution_count": 21,
   "id": "dffad1ff-9811-4790-a43d-ddc709d6c95e",
   "metadata": {},
   "outputs": [
    {
     "data": {
      "text/plain": [
       "Index(['Unnamed: 0.1', 'Unnamed: 0', '111', '112', '121', '122', '131', '132',\n",
       "       '133', '134',\n",
       "       ...\n",
       "       'hr_average', 'hr_min', 'hr_max', 'rr_average', 'rr_min', 'rr_max',\n",
       "       'breathing_disturbances_intensity', 'snoring', 'snoringepisodecount',\n",
       "       'sleep_score'],\n",
       "      dtype='object', length=102)"
      ]
     },
     "execution_count": 21,
     "metadata": {},
     "output_type": "execute_result"
    }
   ],
   "source": [
    "actionOption.columns"
   ]
  }
 ],
 "metadata": {
  "kernelspec": {
   "display_name": "etritf",
   "language": "python",
   "name": "etritf"
  },
  "language_info": {
   "codemirror_mode": {
    "name": "ipython",
    "version": 3
   },
   "file_extension": ".py",
   "mimetype": "text/x-python",
   "name": "python",
   "nbconvert_exporter": "python",
   "pygments_lexer": "ipython3",
   "version": "3.8.16"
  }
 },
 "nbformat": 4,
 "nbformat_minor": 5
}
