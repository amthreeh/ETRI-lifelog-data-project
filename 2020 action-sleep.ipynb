{
 "cells": [
  {
   "cell_type": "code",
   "execution_count": 2,
   "id": "35d5280d-c211-4214-a2a3-34dc1fead30e",
   "metadata": {},
   "outputs": [],
   "source": [
    "import pandas as pd\n",
    "import numpy as np\n",
    "import os\n",
    "import sys\n",
    "import seaborn as sns\n",
    "import datetime\n",
    "import time"
   ]
  },
  {
   "cell_type": "code",
   "execution_count": 328,
   "id": "2a2d871f-5e46-4013-86d1-4fe1d82d1ff2",
   "metadata": {},
   "outputs": [],
   "source": [
    "actionOption = pd.read_csv('jw_data/actionOption_label.csv')\n",
    "sleep_score = actionOption.iloc[:, -1]\n",
    "bad_sleep_data = actionOption[sleep_score < 35]"
   ]
  },
  {
   "cell_type": "code",
   "execution_count": 329,
   "id": "06487905-059c-443c-a60d-aaab0b6947e1",
   "metadata": {},
   "outputs": [
    {
     "name": "stdout",
     "output_type": "stream",
     "text": [
      "잠을 잘 못잤을 때 가장 많이 한 행동 1. Meal (106)\n",
      "잠을 잘 못잤을 때 가장 많이 한 행동 2. Personal hygiene (bath) (60)\n",
      "잠을 잘 못잤을 때 가장 많이 한 행동 3. Watching TV or video (47)\n",
      "잠을 잘 못잤을 때 가장 많이 한 행동 4. Commuting and work-related travel (46)\n",
      "잠을 잘 못잤을 때 가장 많이 한 행동 5. Main job (38)\n",
      "잠을 잘 못잤을 때 가장 많이 한 행동 6. Gaming (mobile, computer, video) (31)\n",
      "잠을 잘 못잤을 때 가장 많이 한 행동 7. Sleep (28)\n",
      "잠을 잘 못잤을 때 가장 많이 한 행동 8. Internet search or blogging (25)\n",
      "잠을 잘 못잤을 때 가장 많이 한 행동 9. Do nothing and rest (24)\n",
      "잠을 잘 못잤을 때 가장 많이 한 행동 10. Snack (24)\n"
     ]
    }
   ],
   "source": [
    "# 가장 많이 한 행동 상위 10개 구하기\n",
    "bad_sleep_actions = bad_sleep_data.iloc[:, 2:-1]\n",
    "action_counts = bad_sleep_actions.sum(axis=0)\n",
    "top_10_actions = action_counts.sort_values(ascending=False)[:10]\n",
    "\n",
    "for i, (name, score) in enumerate(top_10_actions.iteritems(), 1):\n",
    "    name = dict_num_to_kor[name]\n",
    "    print(\"잠을 잘 못잤을 때 가장 많이 한 행동\",\n",
    "          f\"{i}. {name} ({score})\")"
   ]
  },
  {
   "cell_type": "code",
   "execution_count": 330,
   "id": "121ba849-8e73-44ae-b3bc-3d6d9848b9e9",
   "metadata": {},
   "outputs": [],
   "source": [
    "actionOption = pd.read_csv('jw_data/actionOption_label.csv')\n",
    "sleep_score = actionOption.iloc[:, -1]\n",
    "good_sleep_data = actionOption[sleep_score >= 35]"
   ]
  },
  {
   "cell_type": "code",
   "execution_count": 331,
   "id": "6595deae-ed0c-4cf4-b317-59f212aa5868",
   "metadata": {},
   "outputs": [
    {
     "name": "stdout",
     "output_type": "stream",
     "text": [
      "잠을 잘잤을 때 가장 많이 한 행동 1. Meal (190)\n",
      "잠을 잘잤을 때 가장 많이 한 행동 2. Watching TV or video (119)\n",
      "잠을 잘잤을 때 가장 많이 한 행동 3. Personal hygiene (bath) (117)\n",
      "잠을 잘잤을 때 가장 많이 한 행동 4. Commuting and work-related travel (107)\n",
      "잠을 잘잤을 때 가장 많이 한 행동 5. Main job (94)\n",
      "잠을 잘잤을 때 가장 많이 한 행동 6. Gaming (mobile, computer, video) (85)\n",
      "잠을 잘잤을 때 가장 많이 한 행동 7. Do nothing and rest (64)\n",
      "잠을 잘잤을 때 가장 많이 한 행동 8. Preparing food and washing dishes (46)\n",
      "잠을 잘잤을 때 가장 많이 한 행동 9. Internet search or blogging (43)\n",
      "잠을 잘잤을 때 가장 많이 한 행동 10. Housing management and cleaning (42)\n"
     ]
    }
   ],
   "source": [
    "# 가장 많이 한 행동 상위 10개 구하기\n",
    "good_sleep_actions = good_sleep_data.iloc[:, 2:-1]\n",
    "action_counts = good_sleep_actions.sum(axis=0)\n",
    "top_10_actions = action_counts.sort_values(ascending=False)[:10]\n",
    "\n",
    "for i, (name, score) in enumerate(top_10_actions.iteritems(), 1):\n",
    "    name = dict_num_to_kor[name]\n",
    "    print(\"잠을 잘잤을 때 가장 많이 한 행동\",\n",
    "          f\"{i}. {name} ({score})\")"
   ]
  },
  {
   "cell_type": "code",
   "execution_count": 10,
   "id": "4cff14d7-0dda-464a-b8fe-8a4ebda72d8b",
   "metadata": {},
   "outputs": [
    {
     "name": "stdout",
     "output_type": "stream",
     "text": [
      "------- user01.csv ------------------------------------\n",
      "------- user02.csv ------------------------------------\n",
      "------- user03.csv ------------------------------------\n",
      "------- user04.csv ------------------------------------\n",
      "------- user05.csv ------------------------------------\n",
      "------- user06.csv ------------------------------------\n",
      "------- user07.csv ------------------------------------\n",
      "------- user08.csv ------------------------------------\n",
      "------- user09.csv ------------------------------------\n",
      "------- user10.csv ------------------------------------\n",
      "------- user11.csv ------------------------------------\n",
      "------- user12.csv ------------------------------------\n",
      "------- user21.csv ------------------------------------\n",
      "------- user22.csv ------------------------------------\n",
      "------- user23.csv ------------------------------------\n",
      "------- user24.csv ------------------------------------\n",
      "------- user25.csv ------------------------------------\n",
      "------- user26.csv ------------------------------------\n",
      "------- user27.csv ------------------------------------\n",
      "------- user28.csv ------------------------------------\n",
      "------- user29.csv ------------------------------------\n",
      "------- user30.csv ------------------------------------\n"
     ]
    }
   ],
   "source": [
    "action_list =[111, 112, 121, 122, 131, 132, 133, 134, 211, 212, 213, 22, 311, 312, 313, 314, 321, 322, 41, 42, 43, 44, 45, 46, 51, 52, 53, 54, 55, 56, 57, 81, 82, 83, 84, 85, 86,\n",
    "              87, 61, 62, 63, 64, 711, 712, 713, 721, 722, 723, 724, 725, 741, 742, 743, 744, 745, 746, 751, 752, 753, 754, 755, 756, 761, 762, 763, 764, 791, 792, 793, 91, 92]\n",
    "DIRNAME =sorted(os.listdir('jw_data/label_date/'))\n",
    "SLEEP_DIRNAME = sorted(os.listdir('jw_data/user_sleep_data/'))\n",
    "\n",
    "action_option = []\n",
    "for i in range(len(DIRNAME)):\n",
    "    if DIRNAME[i] == '.ipynb_checkpoints':\n",
    "        continue\n",
    "    else:\n",
    "        base_dir1 = 'jw_data/label_date/'+DIRNAME[i]\n",
    "        base_dir2 = 'jw_data/user_sleep_data/'+SLEEP_DIRNAME[i]\n",
    "        label_data = pd.read_csv(base_dir1)\n",
    "        sleep_data = pd.read_csv(base_dir2)\n",
    "        datelist = sorted(label_data['date'].unique())\n",
    "        df =pd.get_dummies(label_data['actionOption'])\n",
    "       \n",
    "        action_df = pd.DataFrame(columns= action_list)\n",
    "        score = sleep_data[['date','sleep_score','wakeupduration', 'lightsleepduration',\n",
    "                   'deepsleepduration', 'wakeupcount', 'durationtosleep',\n",
    "                   'remsleepduration', 'durationtowakeup', 'hr_average', 'hr_min',\n",
    "                   'hr_max', 'rr_average', 'rr_min', 'rr_max',\n",
    "                   'breathing_disturbances_intensity', 'snoring', 'snoringepisodecount',\n",
    "                   ]]\n",
    "        #print(score.head(3))\n",
    "        print(\"-------\", f\"{DIRNAME[i]}\", \"------------------------------------\")\n",
    "        for j in range(len(datelist)):\n",
    "            action = pd.DataFrame(data = label_data[label_data['date'] == datelist[j]][-180:], columns =['date','actionOption'])\n",
    "            \n",
    "            action_num_list = action['actionOption'].unique() # 해당 날짜에 수행한 action 리스트\n",
    "            #print(action_num_list)\n",
    "            date = action['date'].unique()\n",
    "            date_action_dict = dict(zip(date, [action_num_list])) # 날짜와 해당하는 action\n",
    "            for date, action in date_action_dict.items():\n",
    "                action_df.loc[date, action] = 1\n",
    "               \n",
    "        action_df = action_df.fillna(0)\n",
    "        \n",
    "    \n",
    "        score.set_index('date', inplace=True)\n",
    "       \n",
    "        action_df = action_df.reset_index(drop=True)\n",
    "        score = score.reset_index(drop=True)\n",
    "        #print(action_df.head(2))\n",
    "        \n",
    "        merged_df = pd.concat([action_df, score], axis=1, join='inner')\n",
    "        merged_df.to_csv('jw_data/2020action-sleep/'+f\"{DIRNAME[i]}\")\n"
   ]
  },
  {
   "cell_type": "code",
   "execution_count": 11,
   "id": "549f5364-c387-42d5-8e2e-1dcf1eff1f89",
   "metadata": {},
   "outputs": [],
   "source": [
    "import os\n",
    "import pandas as pd\n",
    "\n",
    "DIRNAME = sorted(os.listdir('jw_data/2020action-sleep/'))\n",
    "dfs = []\n",
    "for i in range(len(DIRNAME)):\n",
    "    if DIRNAME[i] == '.ipynb_checkpoints':\n",
    "        continue\n",
    "    else:\n",
    "        base_dir1 = 'jw_data/2020action-sleep/'+DIRNAME[i]\n",
    "        action_label_data = pd.read_csv(base_dir1)\n",
    "        dfs.append(action_label_data)\n",
    "   \n",
    "\n",
    "merged_dfs = pd.concat(dfs, ignore_index=False) \n",
    "merged_dfs.to_csv('jw_data/2020action-sleep.csv')"
   ]
  }
 ],
 "metadata": {
  "kernelspec": {
   "display_name": "Python 3 (ipykernel)",
   "language": "python",
   "name": "python3"
  },
  "language_info": {
   "codemirror_mode": {
    "name": "ipython",
    "version": 3
   },
   "file_extension": ".py",
   "mimetype": "text/x-python",
   "name": "python",
   "nbconvert_exporter": "python",
   "pygments_lexer": "ipython3",
   "version": "3.9.13"
  }
 },
 "nbformat": 4,
 "nbformat_minor": 5
}
