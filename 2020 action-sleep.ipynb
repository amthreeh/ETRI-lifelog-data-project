{
 "cells": [
  {
   "cell_type": "code",
   "execution_count": 2,
   "id": "35d5280d-c211-4214-a2a3-34dc1fead30e",
   "metadata": {},
   "outputs": [],
   "source": [
    "import pandas as pd\n",
    "import numpy as np\n",
    "import os\n",
    "import sys\n",
    "import seaborn as sns\n",
    "import datetime\n",
    "import time"
   ]
  },
  {
   "cell_type": "code",
   "execution_count": 10,
   "id": "4cff14d7-0dda-464a-b8fe-8a4ebda72d8b",
   "metadata": {},
   "outputs": [
    {
     "name": "stdout",
     "output_type": "stream",
     "text": [
      "------- user01.csv ------------------------------------\n",
      "------- user02.csv ------------------------------------\n",
      "------- user03.csv ------------------------------------\n",
      "------- user04.csv ------------------------------------\n",
      "------- user05.csv ------------------------------------\n",
      "------- user06.csv ------------------------------------\n",
      "------- user07.csv ------------------------------------\n",
      "------- user08.csv ------------------------------------\n",
      "------- user09.csv ------------------------------------\n",
      "------- user10.csv ------------------------------------\n",
      "------- user11.csv ------------------------------------\n",
      "------- user12.csv ------------------------------------\n",
      "------- user21.csv ------------------------------------\n",
      "------- user22.csv ------------------------------------\n",
      "------- user23.csv ------------------------------------\n",
      "------- user24.csv ------------------------------------\n",
      "------- user25.csv ------------------------------------\n",
      "------- user26.csv ------------------------------------\n",
      "------- user27.csv ------------------------------------\n",
      "------- user28.csv ------------------------------------\n",
      "------- user29.csv ------------------------------------\n",
      "------- user30.csv ------------------------------------\n"
     ]
    }
   ],
   "source": [
    "action_list =[111, 112, 121, 122, 131, 132, 133, 134, 211, 212, 213, 22, 311, 312, 313, 314, 321, 322, 41, 42, 43, 44, 45, 46, 51, 52, 53, 54, 55, 56, 57, 81, 82, 83, 84, 85, 86,\n",
    "              87, 61, 62, 63, 64, 711, 712, 713, 721, 722, 723, 724, 725, 741, 742, 743, 744, 745, 746, 751, 752, 753, 754, 755, 756, 761, 762, 763, 764, 791, 792, 793, 91, 92]\n",
    "DIRNAME =sorted(os.listdir('jw_data/label_date/'))\n",
    "SLEEP_DIRNAME = sorted(os.listdir('jw_data/user_sleep_data/'))\n",
    "\n",
    "action_option = []\n",
    "for i in range(len(DIRNAME)):\n",
    "    if DIRNAME[i] == '.ipynb_checkpoints':\n",
    "        continue\n",
    "    else:\n",
    "        base_dir1 = 'jw_data/label_date/'+DIRNAME[i]\n",
    "        base_dir2 = 'jw_data/user_sleep_data/'+SLEEP_DIRNAME[i]\n",
    "        label_data = pd.read_csv(base_dir1)\n",
    "        sleep_data = pd.read_csv(base_dir2)\n",
    "        datelist = sorted(label_data['date'].unique())\n",
    "        df =pd.get_dummies(label_data['actionOption'])\n",
    "       \n",
    "        action_df = pd.DataFrame(columns= action_list)\n",
    "        score = sleep_data[['date','sleep_score','wakeupduration', 'lightsleepduration',\n",
    "                   'deepsleepduration', 'wakeupcount', 'durationtosleep',\n",
    "                   'remsleepduration', 'durationtowakeup', 'hr_average', 'hr_min',\n",
    "                   'hr_max', 'rr_average', 'rr_min', 'rr_max',\n",
    "                   'breathing_disturbances_intensity', 'snoring', 'snoringepisodecount',\n",
    "                   ]]\n",
    "        #print(score.head(3))\n",
    "        print(\"-------\", f\"{DIRNAME[i]}\", \"------------------------------------\")\n",
    "        for j in range(len(datelist)):\n",
    "            action = pd.DataFrame(data = label_data[label_data['date'] == datelist[j]][-180:], columns =['date','actionOption'])\n",
    "            \n",
    "            action_num_list = action['actionOption'].unique() # 해당 날짜에 수행한 action 리스트\n",
    "            #print(action_num_list)\n",
    "            date = action['date'].unique()\n",
    "            date_action_dict = dict(zip(date, [action_num_list])) # 날짜와 해당하는 action\n",
    "            for date, action in date_action_dict.items():\n",
    "                action_df.loc[date, action] = 1\n",
    "               \n",
    "        action_df = action_df.fillna(0)\n",
    "        \n",
    "    \n",
    "        score.set_index('date', inplace=True)\n",
    "       \n",
    "        action_df = action_df.reset_index(drop=True)\n",
    "        score = score.reset_index(drop=True)\n",
    "        #print(action_df.head(2))\n",
    "        \n",
    "        merged_df = pd.concat([action_df, score], axis=1, join='inner')\n",
    "        merged_df.to_csv('jw_data/2020action-sleep/'+f\"{DIRNAME[i]}\")\n"
   ]
  },
  {
   "cell_type": "code",
   "execution_count": 11,
   "id": "549f5364-c387-42d5-8e2e-1dcf1eff1f89",
   "metadata": {},
   "outputs": [],
   "source": [
    "import os\n",
    "import pandas as pd\n",
    "\n",
    "DIRNAME = sorted(os.listdir('jw_data/2020action-sleep/'))\n",
    "dfs = []\n",
    "for i in range(len(DIRNAME)):\n",
    "    if DIRNAME[i] == '.ipynb_checkpoints':\n",
    "        continue\n",
    "    else:\n",
    "        base_dir1 = 'jw_data/2020action-sleep/'+DIRNAME[i]\n",
    "        action_label_data = pd.read_csv(base_dir1)\n",
    "        dfs.append(action_label_data)\n",
    "   \n",
    "\n",
    "merged_dfs = pd.concat(dfs, ignore_index=False) \n",
    "merged_dfs.to_csv('jw_data/2020action-sleep.csv')"
   ]
  }
 ],
 "metadata": {
  "kernelspec": {
   "display_name": "Python 3 (ipykernel)",
   "language": "python",
   "name": "python3"
  },
  "language_info": {
   "codemirror_mode": {
    "name": "ipython",
    "version": 3
   },
   "file_extension": ".py",
   "mimetype": "text/x-python",
   "name": "python",
   "nbconvert_exporter": "python",
   "pygments_lexer": "ipython3",
   "version": "3.9.13"
  }
 },
 "nbformat": 4,
 "nbformat_minor": 5
}
